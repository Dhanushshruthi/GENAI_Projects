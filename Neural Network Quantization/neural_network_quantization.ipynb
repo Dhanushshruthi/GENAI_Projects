{
  "nbformat": 4,
  "nbformat_minor": 0,
  "metadata": {
    "colab": {
      "provenance": []
    },
    "kernelspec": {
      "name": "python3",
      "display_name": "Python 3"
    },
    "language_info": {
      "name": "python"
    }
  },
  "cells": [
    {
      "cell_type": "code",
      "source": [
        "import torch\n",
        "import torch.nn as nn\n",
        "import torch.optim as optim\n",
        "from torchvision import datasets, transforms\n",
        "import matplotlib.pyplot as plt\n",
        "\n",
        "# Transform to normalize the images to [0,1]\n",
        "transform = transforms.Compose([transforms.ToTensor(), transforms.Normalize((0.5,), (0.5,))])\n",
        "\n",
        "# Download and load the MNIST dataset\n",
        "train_dataset = datasets.MNIST(root='./data', train=True, download=True, transform=transform)\n",
        "test_dataset = datasets.MNIST(root='./data', train=False, download=True, transform=transform)\n",
        "\n",
        "train_loader = torch.utils.data.DataLoader(train_dataset, batch_size=64, shuffle=True)\n",
        "test_loader = torch.utils.data.DataLoader(test_dataset, batch_size=1, shuffle=True)\n",
        "\n",
        "# Define the model\n",
        "class SimpleNN(nn.Module):\n",
        "    def __init__(self):\n",
        "        super(SimpleNN, self).__init__()\n",
        "        self.fc1 = nn.Linear(28 * 28, 512)\n",
        "        self.fc2 = nn.Linear(512, 10)  # 10 output classes for MNIST digits\n",
        "\n",
        "    def forward(self, x):\n",
        "        x = x.view(-1, 28 * 28)  # Flatten the image\n",
        "        x = torch.relu(self.fc1(x))\n",
        "        x = self.fc2(x)\n",
        "        return x\n",
        "\n",
        "# Instantiate the model\n",
        "model = SimpleNN()\n",
        "\n",
        "# Loss function and optimizer\n",
        "criterion = nn.CrossEntropyLoss()\n",
        "optimizer = optim.Adam(model.parameters(), lr=0.001)\n",
        "\n",
        "# Training loop with accuracy calculation\n",
        "# Training loop with accuracy calculation\n",
        "num_epochs = 3\n",
        "for epoch in range(num_epochs):\n",
        "    model.train()\n",
        "    running_loss = 0.0\n",
        "    correct = 0\n",
        "    total = 0\n",
        "\n",
        "    for images, labels in train_loader:\n",
        "        optimizer.zero_grad()\n",
        "\n",
        "        # Forward pass\n",
        "        outputs = model(images)\n",
        "        loss = criterion(outputs, labels)\n",
        "\n",
        "        # Backward pass\n",
        "        loss.backward()\n",
        "        optimizer.step()\n",
        "\n",
        "        # Update loss\n",
        "        running_loss += loss.item()\n",
        "\n",
        "        # Calculate accuracy\n",
        "        _, predicted = torch.max(outputs.data, 1)\n",
        "        total += labels.size(0)\n",
        "        correct += (predicted == labels).sum().item()\n",
        "\n",
        "    epoch_loss = running_loss / len(train_loader)\n",
        "    epoch_accuracy = (correct / total) * 100  # accuracy percentage\n",
        "\n",
        "    # Print the loss and accuracy for this epoch\n",
        "    print(f'Epoch {epoch+1}, Loss: {epoch_loss:.4f}, Accuracy: {epoch_accuracy:.2f}%')\n"
      ],
      "metadata": {
        "colab": {
          "base_uri": "https://localhost:8080/"
        },
        "id": "OATooE9Hq9Yp",
        "outputId": "cd04bd7c-f6ea-47b3-859c-95d8f05cca64"
      },
      "execution_count": 21,
      "outputs": [
        {
          "output_type": "stream",
          "name": "stdout",
          "text": [
            "Epoch 1, Loss: 0.3174, Accuracy: 90.42%\n",
            "Epoch 2, Loss: 0.1459, Accuracy: 95.65%\n",
            "Epoch 3, Loss: 0.1075, Accuracy: 96.72%\n"
          ]
        }
      ]
    },
    {
      "cell_type": "code",
      "source": [
        "import torch.quantization as tq\n",
        "\n",
        "# Switch the model to evaluation mode\n",
        "model.eval()\n",
        "\n",
        "# Apply dynamic quantization\n",
        "model_quantized = tq.quantize_dynamic(\n",
        "    model,  # The model to quantize\n",
        "    {torch.nn.Linear},  # The types of layers to quantize\n",
        "    dtype=torch.qint8  # Use 8-bit quantization\n",
        ")\n",
        "\n",
        "# Save the quantized model\n",
        "torch.save(model_quantized, \"quantized_model.pt\")\n",
        "print(\"Quantized model saved as quantized_model.pt\")\n"
      ],
      "metadata": {
        "colab": {
          "base_uri": "https://localhost:8080/"
        },
        "id": "C_c1umHsrBRF",
        "outputId": "57fe6f8c-8351-4904-ca30-2b3d727a89d1"
      },
      "execution_count": 22,
      "outputs": [
        {
          "output_type": "stream",
          "name": "stdout",
          "text": [
            "Quantized model saved as quantized_model.pt\n"
          ]
        }
      ]
    },
    {
      "cell_type": "code",
      "source": [
        "# Get the index from the user\n",
        "index = int(input(\"Enter the index of the test image (0-9999): \"))\n",
        "\n",
        "# Select the test image and its true label\n",
        "image, true_label = test_loader.dataset[index]\n",
        "\n",
        "# Perform the prediction using the quantized model\n",
        "predicted_label = get_prediction(quantized_model, image.unsqueeze(0))  # Add batch dimension\n",
        "\n",
        "# Convert the image to a NumPy array for display (remove extra dimensions)\n",
        "image = image.squeeze().numpy()\n",
        "\n",
        "# Display the image and results\n",
        "plt.imshow(image, cmap='gray')\n",
        "plt.title(f\"True label: {true_label}, Predicted: {predicted_label.item()}\")\n",
        "plt.axis('off')\n",
        "plt.show()\n"
      ],
      "metadata": {
        "colab": {
          "base_uri": "https://localhost:8080/",
          "height": 445
        },
        "id": "S9JHy9sosoLn",
        "outputId": "fca36672-5454-484c-d10e-b7453db33a2b"
      },
      "execution_count": 25,
      "outputs": [
        {
          "name": "stdout",
          "output_type": "stream",
          "text": [
            "Enter the index of the test image (0-9999): 23\n"
          ]
        },
        {
          "output_type": "display_data",
          "data": {
            "text/plain": [
              "<Figure size 640x480 with 1 Axes>"
            ],
            "image/png": "[encoded data removed]"
          },
          "metadata": {}
        }
      ]
    },
    {
      "cell_type": "code",
      "source": [
        "# Get the index from the user\n",
        "index = int(input(\"Enter the index of the test image (0-9999): \"))\n",
        "\n",
        "# Select the test image and its true label\n",
        "image, true_label = test_loader.dataset[index]\n",
        "\n",
        "# Perform the prediction using the quantized model\n",
        "predicted_label = get_prediction(quantized_model, image.unsqueeze(0))  # Add batch dimension\n",
        "\n",
        "# Convert the image to a NumPy array for display (remove extra dimensions)\n",
        "image = image.squeeze().numpy()\n",
        "\n",
        "# Display the image and results\n",
        "plt.imshow(image, cmap='gray')\n",
        "plt.title(f\"True label: {true_label}, Predicted: {predicted_label.item()}\")\n",
        "plt.axis('off')\n",
        "plt.show()\n"
      ],
      "metadata": {
        "colab": {
          "base_uri": "https://localhost:8080/",
          "height": 445
        },
        "id": "95kFOac8vWn3",
        "outputId": "043f8dce-b6c9-49ba-cb8e-7f914cc8a98b"
      },
      "execution_count": 26,
      "outputs": [
        {
          "name": "stdout",
          "output_type": "stream",
          "text": [
            "Enter the index of the test image (0-9999): 112\n"
          ]
        },
        {
          "output_type": "display_data",
          "data": {
            "text/plain": [
              "<Figure size 640x480 with 1 Axes>"
            ],
            "image/png": "[encoded data removed]"
          },
          "metadata": {}
        }
      ]
    },
    {
      "cell_type": "code",
      "source": [
        "# Get the index from the user\n",
        "index = int(input(\"Enter the index of the test image (0-9999): \"))\n",
        "\n",
        "# Select the test image and its true label\n",
        "image, true_label = test_loader.dataset[index]\n",
        "\n",
        "# Perform the prediction using the quantized model\n",
        "predicted_label = get_prediction(quantized_model, image.unsqueeze(0))  # Add batch dimension\n",
        "\n",
        "# Convert the image to a NumPy array for display (remove extra dimensions)\n",
        "image = image.squeeze().numpy()\n",
        "\n",
        "# Display the image and results\n",
        "plt.imshow(image, cmap='gray')\n",
        "plt.title(f\"True label: {true_label}, Predicted: {predicted_label.item()}\")\n",
        "plt.axis('off')\n",
        "plt.show()\n"
      ],
      "metadata": {
        "colab": {
          "base_uri": "https://localhost:8080/",
          "height": 445
        },
        "id": "k3nUl8VrvZYM",
        "outputId": "0d4f51e2-719d-4afd-8895-3bff272062f2"
      },
      "execution_count": 27,
      "outputs": [
        {
          "name": "stdout",
          "output_type": "stream",
          "text": [
            "Enter the index of the test image (0-9999): 234\n"
          ]
        },
        {
          "output_type": "display_data",
          "data": {
            "text/plain": [
              "<Figure size 640x480 with 1 Axes>"
            ],
            "image/png": "[encoded data removed]"
          },
          "metadata": {}
        }
      ]
    }
  ]
}