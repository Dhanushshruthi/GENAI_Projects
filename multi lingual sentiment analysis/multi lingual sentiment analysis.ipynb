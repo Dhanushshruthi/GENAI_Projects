{
  "nbformat": 4,
  "nbformat_minor": 0,
  "metadata": {
    "colab": {
      "provenance": []
    },
    "kernelspec": {
      "name": "python3",
      "display_name": "Python 3"
    },
    "language_info": {
      "name": "python"
    }
  },
  "cells": [
    {
      "cell_type": "code",
      "execution_count": 18,
      "metadata": {
        "colab": {
          "base_uri": "https://localhost:8080/"
        },
        "id": "CtypR9KDKcM6",
        "outputId": "ede42678-c6c3-418d-ccfd-d2b615289b54"
      },
      "outputs": [
        {
          "output_type": "stream",
          "name": "stdout",
          "text": [
            "Multilingual Sentiment Analysis Results:\n",
            "\n",
            "Text: I am so excited to be here today!\n",
            "Classification: Happy, Star Rating: 5 stars, Score: 0.81\n",
            "--------------------------------------------------\n",
            "Text: Je me sens tellement triste et seul en ce moment.\n",
            "Classification: Sad, Star Rating: 5 stars, Score: 0.56\n",
            "--------------------------------------------------\n",
            "Text: El clima está bien hoy, ni muy caliente ni frío.\n",
            "Classification: Neutral, Star Rating: 3 stars, Score: 0.49\n",
            "--------------------------------------------------\n",
            "Text: Ich freue mich so, heute hier zu sein!\n",
            "Classification: Happy, Star Rating: 5 stars, Score: 0.76\n",
            "--------------------------------------------------\n",
            "Text: मैं इस समय बहुत उदास और अकेला महसूस कर रहा हूँ।\n",
            "Classification: Sad, Star Rating: 5 stars, Score: 0.64\n",
            "--------------------------------------------------\n",
            "Text: இன்று வானிலை சரி உள்ளது, அதிக வெப்பமும் குளிர்ச்சியும் இல்லைEl clima está bien hoy, ni muy caliente ni frío.\n",
            "Classification: Neutral, Star Rating: 3 stars, Score: 0.47\n",
            "--------------------------------------------------\n"
          ]
        }
      ],
      "source": [
        "from transformers import pipeline\n",
        "\n",
        "# Load a pre-trained multilingual sentiment analysis model\n",
        "model_name = \"nlptown/bert-base-multilingual-uncased-sentiment\"\n",
        "sentiment_analyzer = pipeline(\"sentiment-analysis\", model=model_name)\n",
        "\n",
        "# Define multilingual text samples for classification\n",
        "texts = [\n",
        "    \"I am so excited to be here today!\",  # English (Happy)\n",
        "    \"Je me sens tellement triste et seul en ce moment.\",  # French (Sad)\n",
        "    \"El clima está bien hoy, ni muy caliente ni frío.\",  # Spanish (Neutral)\n",
        "    \"Ich freue mich so, heute hier zu sein!\",  # German (Happy)\n",
        "    \"मैं इस समय बहुत उदास और अकेला महसूस कर रहा हूँ।\",  # Hindi (Sad)\n",
        "    \"இன்று வானிலை சரி உள்ளது, அதிக வெப்பமும் குளிர்ச்சியும் இல்லை\"  # Tamil (Neutral)\n",
        "]\n",
        "\n",
        "# Define a function to classify sentiment into Happy, Sad, or Neutral based on the score\n",
        "def classify_sentiment(score):\n",
        "    if score > 0.75:\n",
        "        return \"Happy\"\n",
        "    elif 0.55 <= score <= 0.75:\n",
        "        return \"Sad\"\n",
        "    else:\n",
        "        return \"Neutral\"\n",
        "\n",
        "# Analyze sentiment and classify it\n",
        "print(\"Multilingual Sentiment Analysis Results:\\n\")\n",
        "for text in texts:\n",
        "    result = sentiment_analyzer(text)\n",
        "    star_rating = result[0][\"label\"]\n",
        "    score = result[0][\"score\"]\n",
        "\n",
        "    # Apply the refined classification based on score\n",
        "    sentiment = classify_sentiment(score)\n",
        "\n",
        "    print(f\"Text: {text}\")\n",
        "    print(f\"Classification: {sentiment}, Star Rating: {star_rating}, Score: {score:.2f}\")\n",
        "    print(\"-\" * 50)\n"
      ]
    }
  ]
}